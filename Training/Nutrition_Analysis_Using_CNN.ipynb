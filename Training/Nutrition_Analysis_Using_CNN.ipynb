{
 "cells": [
  {
   "cell_type": "markdown",
   "metadata": {},
   "source": [
    "# Nutrition Image Analysis using CNN"
   ]
  },
  {
   "cell_type": "markdown",
   "metadata": {},
   "source": [
    "### Importing Neccessary Libraries"
   ]
  },
  {
   "cell_type": "code",
   "execution_count": 1,
   "metadata": {},
   "outputs": [],
   "source": [
    "import numpy as np#used for numerical analysis\n",
    "import tensorflow #open source used for both ML and DL for computation\n",
    "from tensorflow.keras.models import Sequential #it is a plain stack of layers\n",
    "from tensorflow.keras import layers #A layer consists of a tensor-in tensor-out computation function\n",
    "#Dense layer is the regular deeply connected neural network layer\n",
    "from tensorflow.keras.layers import Dense,Flatten\n",
    "#Faltten-used fot flattening the input or change the dimension\n",
    "from tensorflow.keras.layers import Conv2D,MaxPooling2D,Dropout #Convolutional layer\n",
    "#MaxPooling2D-for downsampling the image\n",
    "from keras.preprocessing.image import ImageDataGenerator\n"
   ]
  },
  {
   "cell_type": "markdown",
   "metadata": {},
   "source": [
    "### Image Data Agumentation"
   ]
  },
  {
   "cell_type": "code",
   "execution_count": 2,
   "metadata": {},
   "outputs": [],
   "source": [
    "#setting parameter for Image Data agumentation to the training data\n",
    "train_datagen = ImageDataGenerator(rescale=1./255,shear_range=0.2,zoom_range=0.2,horizontal_flip=True)\n",
    "#Image Data agumentation to the testing data\n",
    "test_datagen=ImageDataGenerator(rescale=1./255)"
   ]
  },
  {
   "cell_type": "markdown",
   "metadata": {},
   "source": [
    "### Loading our data and performing data agumentation"
   ]
  },
  {
   "cell_type": "code",
   "execution_count": 3,
   "metadata": {},
   "outputs": [
    {
     "name": "stdout",
     "output_type": "stream",
     "text": [
      "Found 2626 images belonging to 5 classes.\n",
      "Found 1055 images belonging to 5 classes.\n"
     ]
    }
   ],
   "source": [
    "#performing data agumentation to train data\n",
    "x_train = train_datagen.flow_from_directory(\n",
    "    r'C:\\Users\\Varun\\Downloads\\Nutrition Analysis Using Image Classification-20211029T043804Z-001\\Nutrition Analysis Using Image Classification\\Dataset\\TRAIN_SET',\n",
    "    target_size=(64, 64),batch_size=5,color_mode='rgb',class_mode='sparse')\n",
    "#performing data agumentation to test data\n",
    "x_test = test_datagen.flow_from_directory(\n",
    "    r'C:\\Users\\Varun\\Downloads\\Nutrition Analysis Using Image Classification-20211029T043804Z-001\\Nutrition Analysis Using Image Classification\\Dataset\\TEST_SET',\n",
    "    target_size=(64, 64),batch_size=5,color_mode='rgb',class_mode='sparse') "
   ]
  },
  {
   "cell_type": "code",
   "execution_count": 4,
   "metadata": {},
   "outputs": [
    {
     "name": "stdout",
     "output_type": "stream",
     "text": [
      "{'APPLES': 0, 'BANANA': 1, 'ORANGE': 2, 'PINEAPPLE': 3, 'WATERMELON': 4}\n"
     ]
    }
   ],
   "source": [
    "print(x_train.class_indices)#checking the number of classes"
   ]
  },
  {
   "cell_type": "code",
   "execution_count": 5,
   "metadata": {},
   "outputs": [
    {
     "name": "stdout",
     "output_type": "stream",
     "text": [
      "{'APPLES': 0, 'BANANA': 1, 'ORANGE': 2, 'PINEAPPLE': 3, 'WATERMELON': 4}\n"
     ]
    }
   ],
   "source": [
    "print(x_test.class_indices)#checking the number of classes"
   ]
  },
  {
   "cell_type": "code",
   "execution_count": 6,
   "metadata": {},
   "outputs": [
    {
     "data": {
      "text/plain": [
       "Counter({0: 606, 1: 445, 2: 479, 3: 621, 4: 475})"
      ]
     },
     "execution_count": 6,
     "metadata": {},
     "output_type": "execute_result"
    }
   ],
   "source": [
    "from collections import Counter as c\n",
    "c(x_train .labels)"
   ]
  },
  {
   "cell_type": "markdown",
   "metadata": {},
   "source": [
    "### Creating the model"
   ]
  },
  {
   "cell_type": "code",
   "execution_count": 7,
   "metadata": {},
   "outputs": [],
   "source": [
    "# Initializing the CNN\n",
    "classifier = Sequential()\n",
    "\n",
    "# First convolution layer and pooling\n",
    "classifier.add(Conv2D(32, (3, 3), input_shape=(64, 64, 3), activation='relu'))\n",
    "classifier.add(MaxPooling2D(pool_size=(2, 2)))\n",
    "\n",
    "# Second convolution layer and pooling\n",
    "classifier.add(Conv2D(32, (3, 3), activation='relu'))\n",
    "\n",
    "# input_shape is going to be the pooled feature maps from the previous convolution layer\n",
    "classifier.add(MaxPooling2D(pool_size=(2, 2)))\n",
    "\n",
    "# Flattening the layers\n",
    "classifier.add(Flatten())\n",
    "\n",
    "# Adding a fully connected layer\n",
    "classifier.add(Dense(units=128, activation='relu'))\n",
    "classifier.add(Dense(units=5, activation='softmax')) # softmax for more than 2\n",
    "\n"
   ]
  },
  {
   "cell_type": "code",
   "execution_count": 8,
   "metadata": {},
   "outputs": [
    {
     "name": "stdout",
     "output_type": "stream",
     "text": [
      "Model: \"sequential\"\n",
      "_________________________________________________________________\n",
      "Layer (type)                 Output Shape              Param #   \n",
      "=================================================================\n",
      "conv2d (Conv2D)              (None, 62, 62, 32)        896       \n",
      "_________________________________________________________________\n",
      "max_pooling2d (MaxPooling2D) (None, 31, 31, 32)        0         \n",
      "_________________________________________________________________\n",
      "conv2d_1 (Conv2D)            (None, 29, 29, 32)        9248      \n",
      "_________________________________________________________________\n",
      "max_pooling2d_1 (MaxPooling2 (None, 14, 14, 32)        0         \n",
      "_________________________________________________________________\n",
      "flatten (Flatten)            (None, 6272)              0         \n",
      "_________________________________________________________________\n",
      "dense (Dense)                (None, 128)               802944    \n",
      "_________________________________________________________________\n",
      "dense_1 (Dense)              (None, 5)                 645       \n",
      "=================================================================\n",
      "Total params: 813,733\n",
      "Trainable params: 813,733\n",
      "Non-trainable params: 0\n",
      "_________________________________________________________________\n"
     ]
    }
   ],
   "source": [
    "classifier.summary()#summary of our model"
   ]
  },
  {
   "cell_type": "markdown",
   "metadata": {},
   "source": [
    "### Compiling the model"
   ]
  },
  {
   "cell_type": "code",
   "execution_count": 9,
   "metadata": {},
   "outputs": [],
   "source": [
    "# Compiling the CNN\n",
    "# categorical_crossentropy for more than 2\n",
    "classifier.compile(optimizer='adam',loss='sparse_categorical_crossentropy',metrics=['accuracy'])"
   ]
  },
  {
   "cell_type": "markdown",
   "metadata": {},
   "source": [
    "## Fitting the model"
   ]
  },
  {
   "cell_type": "code",
   "execution_count": 10,
   "metadata": {
    "scrolled": true
   },
   "outputs": [
    {
     "name": "stderr",
     "output_type": "stream",
     "text": [
      "C:\\Users\\Varun\\anaconda3\\lib\\site-packages\\keras\\engine\\training.py:1972: UserWarning: `Model.fit_generator` is deprecated and will be removed in a future version. Please use `Model.fit`, which supports generators.\n",
      "  warnings.warn('`Model.fit_generator` is deprecated and '\n"
     ]
    },
    {
     "name": "stdout",
     "output_type": "stream",
     "text": [
      "Epoch 1/20\n",
      "526/526 [==============================] - 49s 92ms/step - loss: 0.1623 - accuracy: 0.9398 - val_loss: 0.1247 - val_accuracy: 0.9450\n",
      "Epoch 2/20\n",
      "526/526 [==============================] - 15s 28ms/step - loss: 0.0232 - accuracy: 0.9924 - val_loss: 0.0755 - val_accuracy: 0.9763\n",
      "Epoch 3/20\n",
      "526/526 [==============================] - 15s 28ms/step - loss: 0.0021 - accuracy: 0.9996 - val_loss: 0.0575 - val_accuracy: 0.9744\n",
      "Epoch 4/20\n",
      "526/526 [==============================] - 14s 27ms/step - loss: 1.3606e-04 - accuracy: 1.0000 - val_loss: 0.0887 - val_accuracy: 0.9782\n",
      "Epoch 5/20\n",
      "526/526 [==============================] - 16s 30ms/step - loss: 3.1304e-05 - accuracy: 1.0000 - val_loss: 0.0407 - val_accuracy: 0.9801\n",
      "Epoch 6/20\n",
      "526/526 [==============================] - 14s 27ms/step - loss: 2.5077e-05 - accuracy: 1.0000 - val_loss: 0.1152 - val_accuracy: 0.9517\n",
      "Epoch 7/20\n",
      "526/526 [==============================] - 14s 27ms/step - loss: 8.8412e-06 - accuracy: 1.0000 - val_loss: 0.1068 - val_accuracy: 0.9545\n",
      "Epoch 8/20\n",
      "526/526 [==============================] - 14s 27ms/step - loss: 5.1197e-06 - accuracy: 1.0000 - val_loss: 0.1114 - val_accuracy: 0.9611\n",
      "Epoch 9/20\n",
      "526/526 [==============================] - 15s 28ms/step - loss: 9.9977e-06 - accuracy: 1.0000 - val_loss: 0.0769 - val_accuracy: 0.9791\n",
      "Epoch 10/20\n",
      "526/526 [==============================] - 14s 27ms/step - loss: 3.7991e-06 - accuracy: 1.0000 - val_loss: 0.1331 - val_accuracy: 0.9526\n",
      "Epoch 11/20\n",
      "526/526 [==============================] - 16s 30ms/step - loss: 5.1653e-06 - accuracy: 1.0000 - val_loss: 0.0443 - val_accuracy: 0.9801\n",
      "Epoch 12/20\n",
      "526/526 [==============================] - 14s 27ms/step - loss: 7.6411e-06 - accuracy: 1.0000 - val_loss: 0.1334 - val_accuracy: 0.9555\n",
      "Epoch 13/20\n",
      "526/526 [==============================] - 15s 29ms/step - loss: 1.6232e-06 - accuracy: 1.0000 - val_loss: 0.1300 - val_accuracy: 0.9545\n",
      "Epoch 14/20\n",
      "526/526 [==============================] - 15s 28ms/step - loss: 1.4574e-06 - accuracy: 1.0000 - val_loss: 0.1309 - val_accuracy: 0.9583\n",
      "Epoch 15/20\n",
      "526/526 [==============================] - 14s 27ms/step - loss: 9.3561e-07 - accuracy: 1.0000 - val_loss: 0.1578 - val_accuracy: 0.9555\n",
      "Epoch 16/20\n",
      "526/526 [==============================] - 14s 27ms/step - loss: 6.0380e-07 - accuracy: 1.0000 - val_loss: 0.1591 - val_accuracy: 0.9555\n",
      "Epoch 17/20\n",
      "526/526 [==============================] - 15s 28ms/step - loss: 7.2663e-07 - accuracy: 1.0000 - val_loss: 0.1369 - val_accuracy: 0.9659\n",
      "Epoch 18/20\n",
      "526/526 [==============================] - 15s 29ms/step - loss: 0.0545 - accuracy: 0.9863 - val_loss: 0.3466 - val_accuracy: 0.9659\n",
      "Epoch 19/20\n",
      "526/526 [==============================] - 14s 26ms/step - loss: 2.6136e-04 - accuracy: 1.0000 - val_loss: 0.2316 - val_accuracy: 0.9735\n",
      "Epoch 20/20\n",
      "526/526 [==============================] - 17s 32ms/step - loss: 5.4371e-05 - accuracy: 1.0000 - val_loss: 0.2366 - val_accuracy: 0.9735\n"
     ]
    },
    {
     "data": {
      "text/plain": [
       "<keras.callbacks.History at 0x2ab1da8d940>"
      ]
     },
     "execution_count": 10,
     "metadata": {},
     "output_type": "execute_result"
    }
   ],
   "source": [
    "classifier.fit_generator(\n",
    "        generator=x_train,steps_per_epoch = len(x_train),\n",
    "        epochs=20, validation_data=x_test,validation_steps = len(x_test))# No of images in test set"
   ]
  },
  {
   "cell_type": "markdown",
   "metadata": {},
   "source": [
    "### Saving our model"
   ]
  },
  {
   "cell_type": "code",
   "execution_count": 12,
   "metadata": {},
   "outputs": [],
   "source": [
    "# Save the model\n",
    "classifier.save('nutrition1.h5')"
   ]
  },
  {
   "cell_type": "markdown",
   "metadata": {},
   "source": [
    "### Predicting our results"
   ]
  },
  {
   "cell_type": "code",
   "execution_count": 13,
   "metadata": {},
   "outputs": [],
   "source": [
    "from tensorflow.keras.models import load_model\n",
    "from keras.preprocessing import image\n",
    "model = load_model(\"nutrition1.h5\") #loading the model for testing"
   ]
  },
  {
   "cell_type": "code",
   "execution_count": 14,
   "metadata": {},
   "outputs": [
    {
     "data": {
      "text/plain": [
       "array([[0., 1., 0., 0., 0.]], dtype=float32)"
      ]
     },
     "execution_count": 14,
     "metadata": {},
     "output_type": "execute_result"
    }
   ],
   "source": [
    "img = image.load_img(r\"C:\\Users\\Varun\\Downloads\\Nutrition Analysis Using Image Classification-20211029T043804Z-001\\Nutrition Analysis Using Image Classification\\Flask\\Sample_Images\\Test_Image2.jpg\",\n",
    "                     grayscale=False,target_size= (64,64))#loading of the image\n",
    "x = image.img_to_array(img)#image to array\n",
    "x = np.expand_dims(x,axis = 0)#changing the shape\n",
    "pred = model.predict(x)#predicting the classes\n",
    "pred"
   ]
  },
  {
   "cell_type": "code",
   "execution_count": null,
   "metadata": {},
   "outputs": [],
   "source": []
  },
  {
   "cell_type": "code",
   "execution_count": null,
   "metadata": {},
   "outputs": [],
   "source": []
  }
 ],
 "metadata": {
  "kernelspec": {
   "display_name": "Python 3",
   "language": "python",
   "name": "python3"
  },
  "language_info": {
   "codemirror_mode": {
    "name": "ipython",
    "version": 3
   },
   "file_extension": ".py",
   "mimetype": "text/x-python",
   "name": "python",
   "nbconvert_exporter": "python",
   "pygments_lexer": "ipython3",
   "version": "3.8.8"
  }
 },
 "nbformat": 4,
 "nbformat_minor": 4
}
